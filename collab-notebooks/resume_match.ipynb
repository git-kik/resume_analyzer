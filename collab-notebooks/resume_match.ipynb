{
  "nbformat": 4,
  "nbformat_minor": 0,
  "metadata": {
    "colab": {
      "provenance": []
    },
    "kernelspec": {
      "name": "python3",
      "display_name": "Python 3"
    },
    "language_info": {
      "name": "python"
    }
  },
  "cells": [
    {
      "cell_type": "code",
      "source": [
        "!pip install docx2txt PyPDF2 --quiet"
      ],
      "metadata": {
        "colab": {
          "base_uri": "https://localhost:8080/"
        },
        "id": "Mmr_s9E3v3SC",
        "outputId": "698547ec-1efe-4c74-87cc-1b33e9eb242f"
      },
      "execution_count": null,
      "outputs": [
        {
          "output_type": "stream",
          "name": "stdout",
          "text": [
            "\u001b[?25l   \u001b[90m━━━━━━━━━━━━━━━━━━━━━━━━━━━━━━━━━━━━━━━━\u001b[0m \u001b[32m0.0/232.6 kB\u001b[0m \u001b[31m?\u001b[0m eta \u001b[36m-:--:--\u001b[0m\r\u001b[2K   \u001b[91m━━━━━━━━━━━━━━━━━━━━━━━━━━━━━━━━━━━━━━\u001b[0m\u001b[91m╸\u001b[0m\u001b[90m━\u001b[0m \u001b[32m225.3/232.6 kB\u001b[0m \u001b[31m12.0 MB/s\u001b[0m eta \u001b[36m0:00:01\u001b[0m\r\u001b[2K   \u001b[90m━━━━━━━━━━━━━━━━━━━━━━━━━━━━━━━━━━━━━━━━\u001b[0m \u001b[32m232.6/232.6 kB\u001b[0m \u001b[31m6.1 MB/s\u001b[0m eta \u001b[36m0:00:00\u001b[0m\n",
            "\u001b[?25h"
          ]
        }
      ]
    },
    {
      "cell_type": "code",
      "execution_count": null,
      "metadata": {
        "id": "FKwfsWReks5Q"
      },
      "outputs": [],
      "source": [
        "import os\n",
        "import docx2txt\n",
        "import PyPDF2\n",
        "from sklearn.feature_extraction.text import TfidfVectorizer\n",
        "from sklearn.metrics.pairwise import cosine_similarity"
      ]
    },
    {
      "cell_type": "code",
      "source": [
        "def extract_text_from_pdf(file_path):\n",
        "    text = \"\"\n",
        "    with open(file_path, 'rb') as file:\n",
        "        reader = PyPDF2.PdfReader(file)\n",
        "        for page in reader.pages:\n",
        "            text += page.extract_text()\n",
        "    return text\n",
        "\n",
        "def extract_text_from_docx(file_path):\n",
        "    return docx2txt.process(file_path)\n",
        "\n",
        "def extract_text_from_txt(file_path):\n",
        "    with open(file_path, 'r', encoding='utf-8') as file:\n",
        "        return file.read()\n",
        "\n",
        "def extract_text(file_path):\n",
        "    if file_path.endswith('.pdf'):\n",
        "        return extract_text_from_pdf(file_path)\n",
        "    elif file_path.endswith('.docx'):\n",
        "        return extract_text_from_docx(file_path)\n",
        "    elif file_path.endswith('.txt'):\n",
        "        return extract_text_from_txt(file_path)\n",
        "    else:\n",
        "        return \"\""
      ],
      "metadata": {
        "id": "FNJBESV-vrI5"
      },
      "execution_count": null,
      "outputs": []
    },
    {
      "cell_type": "code",
      "source": [
        "from google.colab import drive\n",
        "drive.mount('/content/drive')"
      ],
      "metadata": {
        "colab": {
          "base_uri": "https://localhost:8080/"
        },
        "id": "oeIBwioawU3F",
        "outputId": "31780835-ed07-44a7-9802-8d870611b8c4"
      },
      "execution_count": null,
      "outputs": [
        {
          "output_type": "stream",
          "name": "stdout",
          "text": [
            "Mounted at /content/drive\n"
          ]
        }
      ]
    },
    {
      "cell_type": "code",
      "source": [
        "def main():\n",
        "    # Input job description\n",
        "    job_description = input(\"Enter the job description: \")\n",
        "    if not job_description.strip():\n",
        "        print(\"Job description cannot be empty!\")\n",
        "        return\n",
        "\n",
        "    # Input resume files\n",
        "    resume_files = input(\"Enter the paths to the resume files, separated by commas: \").split(',')\n",
        "    resumes = []\n",
        "    for file_path in resume_files:\n",
        "        file_path = file_path.strip()\n",
        "        if not os.path.exists(file_path):\n",
        "            print(f\"Resume file not found: {file_path}\")\n",
        "            return\n",
        "        resumes.append(extract_text(file_path))\n",
        "\n",
        "    # Check inputs\n",
        "    if not resumes:\n",
        "        print(\"Please provide at least one resume.\")\n",
        "        return\n",
        "\n",
        "    # Vectorize job description and resumes\n",
        "    vectorizer = TfidfVectorizer().fit_transform([job_description] + resumes)\n",
        "    vectors = vectorizer.toarray()\n",
        "\n",
        "    # Calculate cosine similarities\n",
        "    job_vector = vectors[0]\n",
        "    resume_vectors = vectors[1:]\n",
        "    similarities = cosine_similarity([job_vector], resume_vectors)[0]\n",
        "\n",
        "    # Display similarity scores\n",
        "    print(\"\\nSimilarity Scores:\")\n",
        "    for i, score in enumerate(similarities):\n",
        "        print(f\"{resume_files[i].strip()}: {round(score, 2)}\")\n",
        "\n",
        "    # Display top matches\n",
        "    top_indices = similarities.argsort()[-3:][::-1]\n",
        "    print(\"\\nTop Matching Resumes:\")\n",
        "    for i in top_indices:\n",
        "        print(f\"{resume_files[i].strip()} (Score: {round(similarities[i], 2)})\")\n",
        "\n",
        "\n",
        "if __name__ == \"__main__\":\n",
        "    main()"
      ],
      "metadata": {
        "colab": {
          "base_uri": "https://localhost:8080/"
        },
        "id": "0VSSbTCrvsk-",
        "outputId": "193af5af-7647-49b9-8a56-aea1abce5667"
      },
      "execution_count": null,
      "outputs": [
        {
          "output_type": "stream",
          "name": "stdout",
          "text": [
            "Enter the job description: Machine Learning Engineer\n",
            "Enter the paths to the resume files, separated by commas: /content/drive/MyDrive/7th-project/data/CV_Aayush_Regmi_ML.pdf\n",
            "\n",
            "Similarity Scores:\n",
            "/content/drive/MyDrive/7th-project/data/CV_Aayush_Regmi_ML.pdf: 0.15\n",
            "\n",
            "Top Matching Resumes:\n",
            "/content/drive/MyDrive/7th-project/data/CV_Aayush_Regmi_ML.pdf (Score: 0.15)\n"
          ]
        }
      ]
    },
    {
      "cell_type": "code",
      "source": [],
      "metadata": {
        "id": "ER6uThe0wKp-"
      },
      "execution_count": null,
      "outputs": []
    }
  ]
}